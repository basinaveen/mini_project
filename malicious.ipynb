{
 "cells": [
  {
   "cell_type": "code",
   "execution_count": null,
   "id": "0974fd77-6261-44d9-b5fe-4a69045cab09",
   "metadata": {},
   "outputs": [],
   "source": [
    "import pandas as pd\n",
    "import numpy as np\n",
    "from sklearn.model_selection import train_test_split\n",
    "from sklearn.tree import DecisionTreeClassifier, plot_tree\n",
    "from sklearn.metrics import classification_report, confusion_matrix, accuracy_score\n",
    "from sklearn.preprocessing import LabelEncoder, StandardScaler\n",
    "import glob\n",
    "import matplotlib.pyplot as plt"
   ]
  },
  {
   "cell_type": "code",
   "execution_count": null,
   "id": "e80f316e-b93a-4644-874e-59011657b835",
   "metadata": {},
   "outputs": [],
   "source": [
    "data = pd.read_csv(\"labelled_testing_data.csv\")"
   ]
  },
  {
   "cell_type": "code",
   "execution_count": null,
   "id": "46178ad5-04ba-44aa-be32-2986a398e53b",
   "metadata": {},
   "outputs": [],
   "source": [
    "print(\"Dataset shape:\", data.shape)\n",
    "print(\"\\nFirst few rows:\")\n",
    "print(data.head())\n",
    "print(\"\\nMissing values:\")\n",
    "print(data.isnull().sum())"
   ]
  },
  {
   "cell_type": "code",
   "execution_count": null,
   "id": "44156c3f-b99e-4ffa-82f8-8beb6eab772d",
   "metadata": {},
   "outputs": [],
   "source": [
    "numeric_columns = data.select_dtypes(include=['int64', 'float64']).columns\n",
    "categorical_columns = data.select_dtypes(include=['object']).columns"
   ]
  },
  {
   "cell_type": "code",
   "execution_count": null,
   "id": "0867ad37-9eac-442a-9e4c-154b71c59d5d",
   "metadata": {},
   "outputs": [],
   "source": [
    "print(\"\\nNumeric columns:\", numeric_columns.tolist())\n",
    "print(\"Categorical columns:\", categorical_columns.tolist())"
   ]
  },
  {
   "cell_type": "code",
   "execution_count": null,
   "id": "b834b790-143c-48f1-b0be-c0f0216d8447",
   "metadata": {},
   "outputs": [],
   "source": [
    "# Handle missing values\n",
    "if len(numeric_columns) > 0:\n",
    "    data[numeric_columns] = data[numeric_columns].fillna(data[numeric_columns].median())\n",
    "if len(categorical_columns) > 0:\n",
    "    data[categorical_columns] = data[categorical_columns].fillna(data[categorical_columns].mode().iloc[0])"
   ]
  },
  {
   "cell_type": "code",
   "execution_count": null,
   "id": "66d552f3-dd0a-48ab-acee-7126d348981b",
   "metadata": {},
   "outputs": [],
   "source": [
    "# Encode categorical features\n",
    "le_dict = {}\n",
    "for col in categorical_columns:\n",
    "    le_dict[col] = LabelEncoder()\n",
    "    data[col] = le_dict[col].fit_transform(data[col])"
   ]
  },
  {
   "cell_type": "code",
   "execution_count": null,
   "id": "1617c355-937f-402c-8c21-0560e10d4c67",
   "metadata": {},
   "outputs": [],
   "source": [
    "# Feature-target split (using 'evil' as target)\n",
    "X = data.drop(['evil', 'sus'], axis=1)  # Dropping both 'evil' and 'sus' columns\n",
    "y = data['evil']\n"
   ]
  },
  {
   "cell_type": "code",
   "execution_count": null,
   "id": "47b8d3e3-139d-447e-af09-4fe638c5e3e8",
   "metadata": {},
   "outputs": [],
   "source": [
    "# Split the dataset\n",
    "X_train, X_test, y_train, y_test = train_test_split(X, y, test_size=0.3, random_state=42)"
   ]
  },
  {
   "cell_type": "code",
   "execution_count": null,
   "id": "a968a492-d0f5-4d59-ada3-e08706427091",
   "metadata": {},
   "outputs": [],
   "source": [
    "# Scale features (optional for Decision Tree but useful for consistency)\n",
    "scaler = StandardScaler()\n",
    "X_train_scaled = scaler.fit_transform(X_train)\n",
    "X_test_scaled = scaler.transform(X_test)\n"
   ]
  },
  {
   "cell_type": "code",
   "execution_count": null,
   "id": "7eb156b2-0261-4033-9d8d-b85fed379e27",
   "metadata": {},
   "outputs": [],
   "source": [
    "# Train Decision Tree model\n",
    "print(\"\\nTraining Decision Tree model...\")\n",
    "dt_model = DecisionTreeClassifier(criterion='gini', max_depth=5, random_state=42)\n",
    "dt_model.fit(X_train_scaled, y_train)"
   ]
  },
  {
   "cell_type": "code",
   "execution_count": null,
   "id": "3f4d4b24-e23b-4b29-a84f-c184704a311b",
   "metadata": {},
   "outputs": [],
   "source": [
    "# Make predictions\n",
    "y_pred = dt_model.predict(X_test_scaled)"
   ]
  },
  {
   "cell_type": "code",
   "execution_count": null,
   "id": "26a38972-44d8-47d9-9921-ad327524fc29",
   "metadata": {},
   "outputs": [],
   "source": [
    "#Model evaluation\n",
    "print(\"\\nModel Evaluation:\")\n",
    "print(\"Accuracy:\", accuracy_score(y_test, y_pred))\n",
    "print(\"\\nConfusion Matrix:\")\n",
    "print(confusion_matrix(y_test, y_pred))\n",
    "print(\"\\nClassification Report:\")\n",
    "print(classification_report(y_test, y_pred))\n"
   ]
  },
  {
   "cell_type": "code",
   "execution_count": null,
   "id": "ee5b6a37-fecc-4179-8a11-8dd0b7efd68e",
   "metadata": {},
   "outputs": [],
   "source": [
    "# Feature importance\n",
    "feature_importance = pd.DataFrame({\n",
    "    'feature': X.columns,\n",
    "    'importance': dt_model.feature_importances_\n",
    "}).sort_values('importance', ascending=False)"
   ]
  },
  {
   "cell_type": "code",
   "execution_count": null,
   "id": "02591c15-449a-4c28-9fe4-d8477f4f8533",
   "metadata": {},
   "outputs": [],
   "source": [
    "print(\"\\nTop 10 Most Important Features:\")\n",
    "print(feature_importance.head(10))"
   ]
  },
  {
   "cell_type": "code",
   "execution_count": null,
   "id": "493fe323-3c58-44f0-89ba-8dee38769b93",
   "metadata": {},
   "outputs": [],
   "source": [
    "# Visualize the Decision Tree\n",
    "plt.figure(figsize=(20, 10))\n",
    "plot_tree(dt_model, feature_names=X.columns, class_names=True, filled=True)\n",
    "plt.title(\"Decision Tree Visualization\")\n",
    "plt.show()\n"
   ]
  },
  {
   "cell_type": "code",
   "execution_count": null,
   "id": "d9adc2e8-2d99-494b-a976-a5d7d96a95a7",
   "metadata": {},
   "outputs": [],
   "source": [
    "#feature selections\n",
    "feature_importance.to_csv('feature_importances_decision_tree.csv', index=False)"
   ]
  }
 ],
 "metadata": {
  "kernelspec": {
   "display_name": "Python 3 (ipykernel)",
   "language": "python",
   "name": "python3"
  },
  "language_info": {
   "codemirror_mode": {
    "name": "ipython",
    "version": 3
   },
   "file_extension": ".py",
   "mimetype": "text/x-python",
   "name": "python",
   "nbconvert_exporter": "python",
   "pygments_lexer": "ipython3",
   "version": "3.12.7"
  }
 },
 "nbformat": 4,
 "nbformat_minor": 5
}
